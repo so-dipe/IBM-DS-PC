{
  "cells": [
    {
      "cell_type": "markdown",
      "metadata": {
        "id": "view-in-github",
        "colab_type": "text"
      },
      "source": [
        "<a href=\"https://colab.research.google.com/github/so-dipe/IBM-DS-PC/blob/main/Jupyter_Notebook_(1).ipynb\" target=\"_parent\"><img src=\"https://colab.research.google.com/assets/colab-badge.svg\" alt=\"Open In Colab\"/></a>"
      ]
    },
    {
      "cell_type": "markdown",
      "metadata": {
        "id": "8pJ81DKjSNUS"
      },
      "source": [
        "<center>\n",
        "    <img src=\"https://s3-api.us-geo.objectstorage.softlayer.net/cf-courses-data/CognitiveClass/Logos/organization_logo/organization_logo.png\" width=\"300\" alt=\"cognitiveclass.ai logo\"  />\n",
        "</center>\n"
      ]
    },
    {
      "cell_type": "markdown",
      "metadata": {
        "tags": [],
        "id": "BMsK0hbBSNUb"
      },
      "source": [
        "#### Add your code below following the instructions given in the course\n"
      ]
    },
    {
      "cell_type": "markdown",
      "metadata": {
        "id": "xwYzpvTLSNUc"
      },
      "source": [
        "# My Jupyter Notebook on IBM Watson Studio"
      ]
    },
    {
      "cell_type": "markdown",
      "metadata": {
        "id": "KCcW1mNfSNUc"
      },
      "source": [
        "**Sodipe Paul**\n",
        "\n",
        "Machine Learning Engineer"
      ]
    },
    {
      "cell_type": "markdown",
      "metadata": {
        "id": "dqiwhjKlSNUd"
      },
      "source": [
        "*I am interested in data science mainly because I love mathematics.*"
      ]
    },
    {
      "cell_type": "markdown",
      "metadata": {
        "id": "gE9mwlAbSNUd"
      },
      "source": [
        "### The code below Hates Mondays"
      ]
    },
    {
      "cell_type": "code",
      "execution_count": null,
      "metadata": {
        "id": "ISCHM8zNSNUe",
        "outputId": "7561e7d3-e131-47cc-f906-d8aacae2cdf4"
      },
      "outputs": [
        {
          "name": "stdout",
          "output_type": "stream",
          "text": [
            "I hate Mondays\n"
          ]
        }
      ],
      "source": [
        "print('I hate Mondays')"
      ]
    },
    {
      "cell_type": "markdown",
      "metadata": {
        "id": "HGv6kbsmSNUg"
      },
      "source": [
        "* Monday\n",
        "* Tuesday\n",
        "* Wednesday\n",
        "\n",
        "`print('I hate Tuesdays too`)\n",
        "\n",
        "[well here's a link to github](https://github.com)\n",
        "\n",
        "---"
      ]
    }
  ],
  "metadata": {
    "kernelspec": {
      "display_name": "Python",
      "language": "python",
      "name": "conda-env-python-py"
    },
    "language_info": {
      "codemirror_mode": {
        "name": "ipython",
        "version": 3
      },
      "file_extension": ".py",
      "mimetype": "text/x-python",
      "name": "python",
      "nbconvert_exporter": "python",
      "pygments_lexer": "ipython3",
      "version": "3.7.12"
    },
    "colab": {
      "name": "Jupyter_Notebook (1).ipynb",
      "provenance": [],
      "include_colab_link": true
    }
  },
  "nbformat": 4,
  "nbformat_minor": 0
}