{
  "nbformat": 4,
  "nbformat_minor": 0,
  "metadata": {
    "colab": {
      "provenance": [],
      "authorship_tag": "ABX9TyPk0UwmGpJUmCr7S2al8hdq",
      "include_colab_link": true
    },
    "kernelspec": {
      "name": "python3",
      "display_name": "Python 3"
    },
    "language_info": {
      "name": "python"
    }
  },
  "cells": [
    {
      "cell_type": "markdown",
      "metadata": {
        "id": "view-in-github",
        "colab_type": "text"
      },
      "source": [
        "<a href=\"https://colab.research.google.com/github/so-dipe/IBM-DS-PC/blob/main/Capstone/Interactive%20DashBoard.ipynb\" target=\"_parent\"><img src=\"https://colab.research.google.com/assets/colab-badge.svg\" alt=\"Open In Colab\"/></a>"
      ]
    },
    {
      "cell_type": "code",
      "execution_count": null,
      "metadata": {
        "colab": {
          "base_uri": "https://localhost:8080/"
        },
        "id": "BbIlk4-N1nbT",
        "outputId": "da5a2eb9-4199-4638-bc9f-bd79ae3a2f60"
      },
      "outputs": [
        {
          "output_type": "stream",
          "name": "stdout",
          "text": [
            "--2022-09-23 19:33:01--  https://cf-courses-data.s3.us.cloud-object-storage.appdomain.cloud/IBM-DS0321EN-SkillsNetwork/datasets/spacex_launch_dash.csv\n",
            "Resolving cf-courses-data.s3.us.cloud-object-storage.appdomain.cloud (cf-courses-data.s3.us.cloud-object-storage.appdomain.cloud)... 169.45.118.108\n",
            "Connecting to cf-courses-data.s3.us.cloud-object-storage.appdomain.cloud (cf-courses-data.s3.us.cloud-object-storage.appdomain.cloud)|169.45.118.108|:443... connected.\n",
            "HTTP request sent, awaiting response... 200 OK\n",
            "Length: 2476 (2.4K) [text/csv]\n",
            "Saving to: ‘spacex_launch_dash.csv’\n",
            "\n",
            "spacex_launch_dash. 100%[===================>]   2.42K  --.-KB/s    in 0s      \n",
            "\n",
            "2022-09-23 19:33:02 (487 MB/s) - ‘spacex_launch_dash.csv’ saved [2476/2476]\n",
            "\n"
          ]
        }
      ],
      "source": [
        "! wget \"https://cf-courses-data.s3.us.cloud-object-storage.appdomain.cloud/IBM-DS0321EN-SkillsNetwork/datasets/spacex_launch_dash.csv\""
      ]
    },
    {
      "cell_type": "code",
      "source": [
        "! wget \"https://cf-courses-data.s3.us.cloud-object-storage.appdomain.cloud/IBM-DS0321EN-SkillsNetwork/labs/module_3/spacex_dash_app.py\""
      ],
      "metadata": {
        "colab": {
          "base_uri": "https://localhost:8080/"
        },
        "id": "dLZu0LTG1ou9",
        "outputId": "91e6a17c-942d-4853-b131-2197c5da5122"
      },
      "execution_count": null,
      "outputs": [
        {
          "output_type": "stream",
          "name": "stdout",
          "text": [
            "--2022-09-23 19:33:24--  https://cf-courses-data.s3.us.cloud-object-storage.appdomain.cloud/IBM-DS0321EN-SkillsNetwork/labs/module_3/spacex_dash_app.py\n",
            "Resolving cf-courses-data.s3.us.cloud-object-storage.appdomain.cloud (cf-courses-data.s3.us.cloud-object-storage.appdomain.cloud)... 169.45.118.108\n",
            "Connecting to cf-courses-data.s3.us.cloud-object-storage.appdomain.cloud (cf-courses-data.s3.us.cloud-object-storage.appdomain.cloud)|169.45.118.108|:443... connected.\n",
            "HTTP request sent, awaiting response... 200 OK\n",
            "Length: 2110 (2.1K) [text/x-python]\n",
            "Saving to: ‘spacex_dash_app.py’\n",
            "\n",
            "spacex_dash_app.py  100%[===================>]   2.06K  --.-KB/s    in 0s      \n",
            "\n",
            "2022-09-23 19:33:25 (475 MB/s) - ‘spacex_dash_app.py’ saved [2110/2110]\n",
            "\n"
          ]
        }
      ]
    },
    {
      "cell_type": "code",
      "source": [
        "! pip install dash\n",
        "!pip install jupyter-dash"
      ],
      "metadata": {
        "colab": {
          "base_uri": "https://localhost:8080/"
        },
        "id": "OyfcrJCK14th",
        "outputId": "0c0c83d2-6bd6-4c56-9648-513113f6bb35"
      },
      "execution_count": 14,
      "outputs": [
        {
          "output_type": "stream",
          "name": "stdout",
          "text": [
            "Successfully installed ansi2html-1.8.0 jedi-0.18.1 jupyter-dash-0.4.2 nest-asyncio-1.5.5 retrying-1.3.3\n"
          ]
        }
      ]
    },
    {
      "cell_type": "code",
      "source": [
        "from jupyter_dash import JupyterDash\n",
        "import pandas as pd\n",
        "import dash\n",
        "from dash import html, dash, dcc\n",
        "# import dash_html_components as html\n",
        "# import dash_core_components as dcc\n",
        "from dash.dependencies import Input, Output\n",
        "import plotly.express as px"
      ],
      "metadata": {
        "id": "iWi9cZNW1wmQ"
      },
      "execution_count": 15,
      "outputs": []
    },
    {
      "cell_type": "code",
      "source": [
        "spacex_df = pd.read_csv(\"spacex_launch_dash.csv\")\n",
        "max_payload = spacex_df['Payload Mass (kg)'].max()\n",
        "min_payload = spacex_df['Payload Mass (kg)'].min()"
      ],
      "metadata": {
        "id": "VE8mFzwi2ISF"
      },
      "execution_count": 68,
      "outputs": []
    },
    {
      "cell_type": "code",
      "source": [
        "launch_sites = list(spacex_df['Launch Site'].unique())\n",
        "launch_sites.append('All Sites')"
      ],
      "metadata": {
        "colab": {
          "base_uri": "https://localhost:8080/"
        },
        "id": "h06Edfmn4Sx_",
        "outputId": "3b471d36-9491-4e39-9f61-4992333ff841"
      },
      "execution_count": 28,
      "outputs": [
        {
          "output_type": "execute_result",
          "data": {
            "text/plain": [
              "['CCAFS LC-40', 'VAFB SLC-4E', 'KSC LC-39A', 'CCAFS SLC-40', 'All Sites']"
            ]
          },
          "metadata": {},
          "execution_count": 28
        }
      ]
    },
    {
      "cell_type": "code",
      "source": [
        "# app = dash.Dash(__name__)\n",
        "app = JupyterDash(__name__)\n",
        "\n",
        "\n",
        "# TASK 2:\n",
        "# Add a callback function for `site-dropdown` as input, `success-pie-chart` as output\n",
        "@app.callback(\n",
        "    Output('success-pie-chart', 'figure'),\n",
        "    Input('site-dropdown', 'value')\n",
        ")\n",
        "\n",
        "def pie_chart(option):\n",
        "  if option == 'All Sites':\n",
        "    success_df = spacex_df[spacex_df['class'] == 1]\n",
        "    fig = px.pie(\n",
        "        data_frame=success_df,\n",
        "        names='Launch Site',\n",
        "        title='Total Success by Launch Sites'\n",
        "        # values='class'\n",
        "    )\n",
        "  else:\n",
        "    launch_df = spacex_df[spacex_df['Launch Site'] == option]\n",
        "    fig = px.pie(\n",
        "        data_frame=launch_df,\n",
        "        names='class',\n",
        "        title=f'Total Success Launchs for site {option}'\n",
        "        # values='Flight Number'\n",
        "    )\n",
        "  return fig\n",
        "\n",
        "\n",
        "\n",
        "# TASK 4:\n",
        "# Add a callback function for `site-dropdown` and `payload-slider` as inputs, `success-payload-scatter-chart` as output\n",
        "@app.callback(\n",
        "    Output('success-payload-scatter-chart', 'figure'),\n",
        "    Input('site-dropdown', 'value'),\n",
        "    Input('payload-slider', 'value')\n",
        ")\n",
        "\n",
        "def scatter(site, range):\n",
        "  range_df = spacex_df[spacex_df['Payload Mass (kg)'].between(range[0], range[1])]\n",
        "  if site == 'All Sites':\n",
        "    fig = px.scatter(\n",
        "        data_frame=range_df,\n",
        "        x='Payload Mass (kg)',\n",
        "        y='class',\n",
        "        color=\"Booster Version Category\",\n",
        "        title='Correlation between Payload and Success for all Sites'\n",
        "    )\n",
        "  else:\n",
        "    site_range_df = range_df[range_df['Launch Site'] == site]\n",
        "    fig = px.scatter(\n",
        "        data_frame=site_range_df,\n",
        "        x='Payload Mass (kg)',\n",
        "        y='class',\n",
        "        color=\"Booster Version Category\",\n",
        "        title=f'Correlation between Payload and Success for site {site}'\n",
        "    )\n",
        "  return fig\n",
        "\n",
        "\n",
        "\n",
        "app.layout = html.Div(children=[html.H1('SpaceX Launch Records Dashboard',\n",
        "                                        style={'textAlign': 'center', 'color': '#503D36',\n",
        "                                               'font-size': 40}),\n",
        "                                # TASK 1: Add a dropdown list to enable Launch Site selection\n",
        "                                # The default select value is for ALL sites\n",
        "                                dcc.Dropdown(id='site-dropdown', options=launch_sites, value='All Sites'),\n",
        "                                html.Br(),\n",
        "\n",
        "                                # TASK 2: Add a pie chart to show the total successful launches count for all sites\n",
        "                                # If a specific launch site was selected, show the Success vs. Failed counts for the site\n",
        "                                html.Div(dcc.Graph(id='success-pie-chart')),\n",
        "                                html.Br(),\n",
        "\n",
        "                                html.P(\"Payload range (Kg):\"),\n",
        "                                # TASK 3: Add a slider to select payload range\n",
        "                                dcc.RangeSlider(id='payload-slider',\n",
        "                                                min=0, max=10000,\n",
        "                                                step=1000, value=[min_payload, max_payload]\n",
        "                                                ),\n",
        "\n",
        "                                # TASK 4: Add a scatter chart to show the correlation between payload and launch success\n",
        "                                html.Div(dcc.Graph(id='success-payload-scatter-chart')),\n",
        "                                ])\n",
        "\n",
        "\n",
        "if __name__ == '__main__':\n",
        "    app.run_server()"
      ],
      "metadata": {
        "id": "ravhd0LY2fzo",
        "colab": {
          "base_uri": "https://localhost:8080/",
          "height": 52
        },
        "outputId": "fa9f6e19-2eab-4de2-8eb4-129a0fdca964"
      },
      "execution_count": 93,
      "outputs": [
        {
          "output_type": "stream",
          "name": "stdout",
          "text": [
            "Dash app running on:\n"
          ]
        },
        {
          "output_type": "display_data",
          "data": {
            "text/plain": [
              "<IPython.core.display.Javascript object>"
            ],
            "application/javascript": [
              "(async (port, path, text, element) => {\n",
              "    if (!google.colab.kernel.accessAllowed) {\n",
              "      return;\n",
              "    }\n",
              "    element.appendChild(document.createTextNode(''));\n",
              "    const url = await google.colab.kernel.proxyPort(port);\n",
              "    const anchor = document.createElement('a');\n",
              "    anchor.href = new URL(path, url).toString();\n",
              "    anchor.target = '_blank';\n",
              "    anchor.setAttribute('data-href', url + path);\n",
              "    anchor.textContent = text;\n",
              "    element.appendChild(anchor);\n",
              "  })(8050, \"/\", \"http://127.0.0.1:8050/\", window.element)"
            ]
          },
          "metadata": {}
        }
      ]
    },
    {
      "cell_type": "code",
      "source": [
        "\n"
      ],
      "metadata": {
        "id": "-oMUY5JW2rvz"
      },
      "execution_count": 88,
      "outputs": []
    },
    {
      "cell_type": "code",
      "source": [],
      "metadata": {
        "id": "k7Dh0pYt42OO"
      },
      "execution_count": 89,
      "outputs": []
    },
    {
      "cell_type": "code",
      "source": [],
      "metadata": {
        "id": "pVHgxHeQ2lz8"
      },
      "execution_count": 91,
      "outputs": []
    },
    {
      "cell_type": "code",
      "source": [],
      "metadata": {
        "colab": {
          "base_uri": "https://localhost:8080/",
          "height": 52
        },
        "id": "kCK7WpED2wPd",
        "outputId": "15775d1b-ab53-4cab-ad2b-1fe92ff42c50"
      },
      "execution_count": 92,
      "outputs": [
        {
          "output_type": "stream",
          "name": "stdout",
          "text": [
            "Dash app running on:\n"
          ]
        },
        {
          "output_type": "display_data",
          "data": {
            "text/plain": [
              "<IPython.core.display.Javascript object>"
            ],
            "application/javascript": [
              "(async (port, path, text, element) => {\n",
              "    if (!google.colab.kernel.accessAllowed) {\n",
              "      return;\n",
              "    }\n",
              "    element.appendChild(document.createTextNode(''));\n",
              "    const url = await google.colab.kernel.proxyPort(port);\n",
              "    const anchor = document.createElement('a');\n",
              "    anchor.href = new URL(path, url).toString();\n",
              "    anchor.target = '_blank';\n",
              "    anchor.setAttribute('data-href', url + path);\n",
              "    anchor.textContent = text;\n",
              "    element.appendChild(anchor);\n",
              "  })(8050, \"/\", \"http://127.0.0.1:8050/\", window.element)"
            ]
          },
          "metadata": {}
        }
      ]
    },
    {
      "cell_type": "code",
      "source": [],
      "metadata": {
        "id": "ocJ4173F24hM"
      },
      "execution_count": null,
      "outputs": []
    }
  ]
}